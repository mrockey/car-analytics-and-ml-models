{
 "cells": [
  {
   "cell_type": "markdown",
   "metadata": {},
   "source": [
    "#### Notebook Purpose:\n",
    "\n",
    "In this notebook, I plan to show you how I created our database schema and structure. In the first step, I highlight the statements I used to create the tables and relationships and attached a image of the schema. In the next step, I clean and seperate all of the data into different dataframes, so they can be loaded into the database. Finally in the last step, I loaded all of the dataframes into the tables.\n",
    "\n",
    "##### I ran all of the CREATE statments below using the Postgres CLI."
   ]
  },
  {
   "cell_type": "markdown",
   "metadata": {},
   "source": [
    "#### Create the \"vehicle_make\" table:"
   ]
  },
  {
   "cell_type": "raw",
   "metadata": {},
   "source": [
    "CREATE TABLE vehicle_make (\n",
    "    make_id          INT,\n",
    "    make             VARCHAR(200),\n",
    "    CONSTRAINT pk_vehicle_make\n",
    "    PRIMARY KEY (make_id)\n",
    ");"
   ]
  },
  {
   "cell_type": "markdown",
   "metadata": {},
   "source": [
    "#### Create the \"dealer\" table:"
   ]
  },
  {
   "cell_type": "raw",
   "metadata": {},
   "source": [
    "CREATE TABLE dealer (\n",
    "    dealer_id          INT,\n",
    "    dealer_name        VARCHAR(300),\n",
    "    CONSTRAINT pk_dealer\n",
    "    PRIMARY KEY (dealer_id)\n",
    ");"
   ]
  },
  {
   "cell_type": "markdown",
   "metadata": {},
   "source": [
    "#### Create the \"rate\" table:"
   ]
  },
  {
   "cell_type": "raw",
   "metadata": {},
   "source": [
    "CREATE TABLE rate (\n",
    "    rate_id       INT,\n",
    "    rate          VARCHAR(300),\n",
    "    CONSTRAINT pk_rate\n",
    "    PRIMARY KEY (rate_id)\n",
    ");"
   ]
  },
  {
   "cell_type": "markdown",
   "metadata": {},
   "source": [
    "#### Create the \"city\" table:"
   ]
  },
  {
   "cell_type": "raw",
   "metadata": {},
   "source": [
    "CREATE TABLE city (\n",
    "    zip_code            INT,\n",
    "    city                VARCHAR(100),\n",
    "    state               VARCHAR(2),\n",
    "    distance_radius     INT,\n",
    "    longitude           REAL,\n",
    "    latitude            REAL,\n",
    "    CONSTRAINT pk_city\n",
    "    PRIMARY KEY (zip_code)\n",
    ");"
   ]
  },
  {
   "cell_type": "markdown",
   "metadata": {},
   "source": [
    "#### Create the \"vehicle\" table:"
   ]
  },
  {
   "cell_type": "raw",
   "metadata": {},
   "source": [
    "CREATE TABLE vehicle (\n",
    "    vehicle_id       INT,\n",
    "    year             INT,\n",
    "    make_id          INT,\n",
    "    model            VARCHAR(200),\n",
    "    CONSTRAINT pk_vehicle\n",
    "    PRIMARY KEY (vehicle_id),\n",
    "    FOREIGN KEY (make_id) REFERENCES vehicle_make(make_id)\n",
    ");"
   ]
  },
  {
   "cell_type": "markdown",
   "metadata": {},
   "source": [
    "#### Create the \"vehicle_stats\" table:"
   ]
  },
  {
   "cell_type": "raw",
   "metadata": {},
   "source": [
    "CREATE TABLE vehicle_stats (\n",
    "    vehicle_id        INT,\n",
    "    avg_price         REAL,\n",
    "    min_price         INT,\n",
    "    max_price         INT,\n",
    "    avg_mileage       REAL,\n",
    "    min_mileage       INT,\n",
    "    max_mileage       INT,\n",
    "    count             INT,\n",
    "    CONSTRAINT pk_vehicle_stats\n",
    "    PRIMARY KEY (vehicle_id),\n",
    "    FOREIGN KEY (vehicle_id) REFERENCES vehicle(vehicle_id)\n",
    ");"
   ]
  },
  {
   "cell_type": "markdown",
   "metadata": {},
   "source": [
    "#### Create the \"vehicle_posting\" table:"
   ]
  },
  {
   "cell_type": "raw",
   "metadata": {},
   "source": [
    "CREATE TABLE vehicle_posting (\n",
    "    posting_id           INT,\n",
    "    vehicle_id           INT,\n",
    "    dealer_id            INT,\n",
    "    mileage              INT,\n",
    "    price                INT,\n",
    "    rate_id              INT,\n",
    "    under_value          INT,\n",
    "    zip_code             INT,\n",
    "    miles                INT,\n",
    "    electronic_posting   INT,\n",
    "    CONSTRAINT pk_vehicle_sale\n",
    "    PRIMARY KEY (posting_id),\n",
    "    FOREIGN KEY (vehicle_id) REFERENCES vehicle(vehicle_id),\n",
    "    FOREIGN KEY (vehicle_id) REFERENCES vehicle_stats(vehicle_id),\n",
    "    FOREIGN KEY (dealer_id) REFERENCES dealer(dealer_id),\n",
    "    FOREIGN KEY (rate_id) REFERENCES rate(rate_id),\n",
    "    FOREIGN KEY (zip_code) REFERENCES city(zip_code)\n",
    ");"
   ]
  },
  {
   "cell_type": "markdown",
   "metadata": {},
   "source": [
    "#### Entity Relationship Diagram for all of these tables:"
   ]
  },
  {
   "cell_type": "markdown",
   "metadata": {},
   "source": [
    "![erd](./images/ERD.png)"
   ]
  },
  {
   "cell_type": "markdown",
   "metadata": {},
   "source": [
    "#### CatCode, Clean, and Normalize the Data before Inserting:\n",
    "\n",
    "In this step, I am going to add cat codes as IDs for attributes that are foreign keys.\n"
   ]
  },
  {
   "cell_type": "code",
   "execution_count": 191,
   "metadata": {},
   "outputs": [],
   "source": [
    "import pandas as pd\n",
    "import numpy as np\n",
    "import psycopg2\n",
    "import getpass\n",
    "import sqlite3"
   ]
  },
  {
   "cell_type": "code",
   "execution_count": 192,
   "metadata": {},
   "outputs": [],
   "source": [
    "carscom = pd.read_pickle('/dsa/groups/casestudy2022su/team05/carscom_v03.pkl')"
   ]
  },
  {
   "cell_type": "code",
   "execution_count": 193,
   "metadata": {},
   "outputs": [],
   "source": [
    "# Create ID for Vehicle_Make\n",
    "carscom['Make_ID'] = carscom['Make'].astype('category').cat.codes"
   ]
  },
  {
   "cell_type": "code",
   "execution_count": 194,
   "metadata": {},
   "outputs": [],
   "source": [
    "# Create ID for Dealer\n",
    "carscom['Dealer_ID'] = carscom['Dealer_Name'].astype('category').cat.codes"
   ]
  },
  {
   "cell_type": "code",
   "execution_count": 195,
   "metadata": {},
   "outputs": [],
   "source": [
    "# Create ID for Rate\n",
    "carscom['Rate_ID'] = carscom['Rate'].astype('category').cat.codes"
   ]
  },
  {
   "cell_type": "code",
   "execution_count": 196,
   "metadata": {},
   "outputs": [],
   "source": [
    "# Create ID for Vehicle\n",
    "carscom['Vehicle_ID'] = carscom['Year'].map(str) + '-' + carscom['Make_ID'].map(str) + '-' + carscom['Model']\n",
    "carscom['Vehicle_ID'] = carscom['Vehicle_ID'].astype('category').cat.codes"
   ]
  },
  {
   "cell_type": "code",
   "execution_count": 197,
   "metadata": {},
   "outputs": [],
   "source": [
    "# Create ID for Vehicle_Posting\n",
    "carscom['Posting_ID'] = range(1, len(carscom) + 1)"
   ]
  },
  {
   "cell_type": "markdown",
   "metadata": {},
   "source": [
    "In this step, I am going to normalize, seperate, and clean the data into the individual dataframes. This will allow me to load the data into the database much more efficently."
   ]
  },
  {
   "cell_type": "code",
   "execution_count": 198,
   "metadata": {},
   "outputs": [],
   "source": [
    "# Create dataframe for Dealer table:\n",
    "dealer_table = carscom[['Dealer_ID', 'Dealer_Name']]\n",
    "dealer_table = dealer_table.drop_duplicates(inplace = False)\n",
    "dealer_table.columns = ['Dealer_ID', 'Dealer']"
   ]
  },
  {
   "cell_type": "code",
   "execution_count": 199,
   "metadata": {},
   "outputs": [],
   "source": [
    "# Create dataframe for Vehicle Make table:\n",
    "vehicle_make_table = carscom[['Make_ID', 'Make']]\n",
    "vehicle_make_table = vehicle_make_table.drop_duplicates(inplace = False)"
   ]
  },
  {
   "cell_type": "code",
   "execution_count": 200,
   "metadata": {},
   "outputs": [],
   "source": [
    "# Create dataframe for Rate table:\n",
    "rate_table = carscom[['Rate_ID', 'Rate']]\n",
    "rate_table = rate_table.drop_duplicates(inplace = False)"
   ]
  },
  {
   "cell_type": "code",
   "execution_count": 201,
   "metadata": {},
   "outputs": [],
   "source": [
    "# Create dataframe for City table:\n",
    "city_table = carscom[['Zip', 'City', 'State', 'Distance Radius', 'Lon', 'Lat']]\n",
    "city_table = city_table.drop_duplicates(inplace = False)\n",
    "city_table.columns = ['Zip_Code', 'City', 'State', 'Distance_Radius', 'Longitude', 'Latitude']\n",
    "city_table = city_table.drop([243768,243771])"
   ]
  },
  {
   "cell_type": "code",
   "execution_count": 202,
   "metadata": {},
   "outputs": [],
   "source": [
    "# Create dataframe for Vehicle Stats table:\n",
    "vehicle_stats_table = carscom[['Vehicle_ID', 'Avg_Price', 'Min_Price', 'Max_Price', 'Avg_Mileage', 'Min_Mileage', 'Max_Mileage', 'Count']]\n",
    "vehicle_stats_table = vehicle_stats_table.drop_duplicates(inplace = False)"
   ]
  },
  {
   "cell_type": "code",
   "execution_count": 203,
   "metadata": {},
   "outputs": [],
   "source": [
    "# Create dataframe for Vehicle table:\n",
    "vehicle_table = carscom[['Vehicle_ID', 'Year', 'Make_ID', 'Model']]\n",
    "vehicle_table = vehicle_table.drop_duplicates(inplace = False)"
   ]
  },
  {
   "cell_type": "code",
   "execution_count": 204,
   "metadata": {},
   "outputs": [],
   "source": [
    "# Create dataframe for Vehicle Posting table:\n",
    "vehicle_posting_table = carscom[['Posting_ID', 'Vehicle_ID', 'Dealer_ID', 'Rate_ID', 'Mileage', 'Price', 'Under_Value($)', 'miles', 'Zip', 'electronic_dealer']]\n",
    "vehicle_posting_table = vehicle_posting_table.drop_duplicates(inplace = False)\n",
    "vehicle_posting_table.columns = ['Posting_ID', 'Vehicle_ID', 'Dealer_ID', 'Rate_ID', 'Mileage', 'Price', 'Under_Value', 'Miles', 'Zip_Code', 'Electronic_Posting']"
   ]
  },
  {
   "cell_type": "markdown",
   "metadata": {},
   "source": [
    "In this step, I am going to load the dataframes into the database using Python."
   ]
  },
  {
   "cell_type": "code",
   "execution_count": 125,
   "metadata": {},
   "outputs": [
    {
     "name": "stdout",
     "output_type": "stream",
     "text": [
      "········\n"
     ]
    }
   ],
   "source": [
    "mypasswd = getpass.getpass()\n",
    "\n",
    "connection = psycopg2.connect(database='casestdysu22t05', user='mtrkkf', host='pgsql.dsa.lan', password=mypasswd)\n",
    "\n",
    "cursor = connection.cursor()\n",
    "\n",
    "del mypasswd"
   ]
  },
  {
   "cell_type": "code",
   "execution_count": 143,
   "metadata": {},
   "outputs": [
    {
     "name": "stdout",
     "output_type": "stream",
     "text": [
      "INSERT INTO dealer  (dealer_id,dealer_name) VALUES (%s,%s)\n"
     ]
    }
   ],
   "source": [
    "# Create INSERT statement for Dealer table:\n",
    "INSERT_SQL = 'INSERT INTO dealer '\n",
    "INSERT_SQL += ' (dealer_id,dealer_name) VALUES '\n",
    "INSERT_SQL += '(%s,%s)'\n",
    "print(INSERT_SQL)"
   ]
  },
  {
   "cell_type": "code",
   "execution_count": 144,
   "metadata": {},
   "outputs": [],
   "source": [
    "# Load dataframe into Dealer table:\n",
    "with connection, connection.cursor() as cursor:\n",
    "    for row in dealer_table.itertuples(index = False, name = None):\n",
    "        cursor.execute(INSERT_SQL, row)"
   ]
  },
  {
   "cell_type": "code",
   "execution_count": 145,
   "metadata": {},
   "outputs": [
    {
     "name": "stdout",
     "output_type": "stream",
     "text": [
      "INSERT INTO rate  (rate_id,rate) VALUES (%s,%s)\n"
     ]
    }
   ],
   "source": [
    "# Create INSERT statement for Rate table:\n",
    "INSERT_SQL = 'INSERT INTO rate '\n",
    "INSERT_SQL += ' (rate_id,rate) VALUES '\n",
    "INSERT_SQL += '(%s,%s)'\n",
    "print(INSERT_SQL)"
   ]
  },
  {
   "cell_type": "code",
   "execution_count": 146,
   "metadata": {},
   "outputs": [],
   "source": [
    "# Load dataframe into Rate table:\n",
    "with connection, connection.cursor() as cursor:\n",
    "    for row in rate_table.itertuples(index = False, name = None):\n",
    "        cursor.execute(INSERT_SQL, row)"
   ]
  },
  {
   "cell_type": "code",
   "execution_count": 147,
   "metadata": {},
   "outputs": [
    {
     "name": "stdout",
     "output_type": "stream",
     "text": [
      "INSERT INTO vehicle_make  (make_id,make) VALUES (%s,%s)\n"
     ]
    }
   ],
   "source": [
    "# Create INSERT statement for Vehicle Make table:\n",
    "INSERT_SQL = 'INSERT INTO vehicle_make '\n",
    "INSERT_SQL += ' (make_id,make) VALUES '\n",
    "INSERT_SQL += '(%s,%s)'\n",
    "print(INSERT_SQL)"
   ]
  },
  {
   "cell_type": "code",
   "execution_count": 148,
   "metadata": {},
   "outputs": [],
   "source": [
    "# Load dataframe into Vehicle Make table:\n",
    "with connection, connection.cursor() as cursor:\n",
    "    for row in vehicle_make_table.itertuples(index = False, name = None):\n",
    "        cursor.execute(INSERT_SQL, row)"
   ]
  },
  {
   "cell_type": "code",
   "execution_count": 152,
   "metadata": {},
   "outputs": [
    {
     "name": "stdout",
     "output_type": "stream",
     "text": [
      "INSERT INTO city  (zip_code,city,state,distance_radius,longitude,latitude) VALUES (%s,%s,%s,%s,%s,%s)\n"
     ]
    }
   ],
   "source": [
    "# Create INSERT statement for City table:\n",
    "INSERT_SQL = 'INSERT INTO city '\n",
    "INSERT_SQL += ' (zip_code,city,state,distance_radius,longitude,latitude) VALUES '\n",
    "INSERT_SQL += '(%s,%s,%s,%s,%s,%s)'\n",
    "print(INSERT_SQL)"
   ]
  },
  {
   "cell_type": "code",
   "execution_count": 206,
   "metadata": {},
   "outputs": [],
   "source": [
    "# Load dataframe into City table:\n",
    "with connection, connection.cursor() as cursor:\n",
    "    for row in city_table.itertuples(index = False, name = None):\n",
    "        cursor.execute(INSERT_SQL, row)"
   ]
  },
  {
   "cell_type": "code",
   "execution_count": 207,
   "metadata": {},
   "outputs": [
    {
     "name": "stdout",
     "output_type": "stream",
     "text": [
      "INSERT INTO vehicle  (Vehicle_ID,Year,Make_ID,Model) VALUES (%s,%s,%s,%s)\n"
     ]
    }
   ],
   "source": [
    "# Create INSERT statement for Vehicle table:\n",
    "INSERT_SQL = 'INSERT INTO vehicle '\n",
    "INSERT_SQL += ' (Vehicle_ID,Year,Make_ID,Model) VALUES '\n",
    "INSERT_SQL += '(%s,%s,%s,%s)'\n",
    "print(INSERT_SQL)"
   ]
  },
  {
   "cell_type": "code",
   "execution_count": 208,
   "metadata": {},
   "outputs": [],
   "source": [
    "# Load dataframe into Vehicle table:\n",
    "with connection, connection.cursor() as cursor:\n",
    "    for row in vehicle_table.itertuples(index = False, name = None):\n",
    "        cursor.execute(INSERT_SQL, row)"
   ]
  },
  {
   "cell_type": "code",
   "execution_count": 225,
   "metadata": {},
   "outputs": [
    {
     "name": "stdout",
     "output_type": "stream",
     "text": [
      "INSERT INTO vehicle_stats  (Vehicle_ID,Avg_Price,Min_Price,Max_Price,Avg_Mileage,Min_Mileage,Max_Mileage,Count) VALUES (%s,%s,%s,%s,%s,%s,%s,%s)\n"
     ]
    }
   ],
   "source": [
    "# Create INSERT statement for Vehicle Stats table:\n",
    "INSERT_SQL = 'INSERT INTO vehicle_stats ' \n",
    "INSERT_SQL += ' (Vehicle_ID,Avg_Price,Min_Price,Max_Price,Avg_Mileage,Min_Mileage,Max_Mileage,Count) VALUES '\n",
    "INSERT_SQL += '(%s,%s,%s,%s,%s,%s,%s,%s)'\n",
    "print(INSERT_SQL)"
   ]
  },
  {
   "cell_type": "code",
   "execution_count": 226,
   "metadata": {},
   "outputs": [],
   "source": [
    "# Load dataframe into Vehicle Stats table:\n",
    "with connection, connection.cursor() as cursor:\n",
    "    for row in vehicle_stats_table.itertuples(index = False, name = None):\n",
    "        cursor.execute(INSERT_SQL, row)"
   ]
  },
  {
   "cell_type": "code",
   "execution_count": 228,
   "metadata": {},
   "outputs": [
    {
     "name": "stdout",
     "output_type": "stream",
     "text": [
      "INSERT INTO vehicle_posting  (Posting_ID,Vehicle_ID,Dealer_ID,Rate_ID,Mileage,Price,Under_Value,Miles,Zip_Code,Electronic_Posting) VALUES (%s,%s,%s,%s,%s,%s,%s,%s,%s,%s)\n"
     ]
    }
   ],
   "source": [
    "# Create INSERT statement for Vehicle Posting table:\n",
    "INSERT_SQL = 'INSERT INTO vehicle_posting ' \n",
    "INSERT_SQL += ' (Posting_ID,Vehicle_ID,Dealer_ID,Rate_ID,Mileage,Price,Under_Value,Miles,Zip_Code,Electronic_Posting) VALUES '\n",
    "INSERT_SQL += '(%s,%s,%s,%s,%s,%s,%s,%s,%s,%s)'\n",
    "print(INSERT_SQL)"
   ]
  },
  {
   "cell_type": "code",
   "execution_count": 229,
   "metadata": {},
   "outputs": [],
   "source": [
    "# Load dataframe into Vehicle Posting table:\n",
    "with connection, connection.cursor() as cursor:\n",
    "    for row in vehicle_posting_table.itertuples(index = False, name = None):\n",
    "        cursor.execute(INSERT_SQL, row)"
   ]
  },
  {
   "cell_type": "code",
   "execution_count": null,
   "metadata": {},
   "outputs": [],
   "source": []
  },
  {
   "cell_type": "code",
   "execution_count": null,
   "metadata": {},
   "outputs": [],
   "source": []
  }
 ],
 "metadata": {
  "kernelspec": {
   "display_name": "Python 3",
   "language": "python",
   "name": "python3"
  },
  "language_info": {
   "codemirror_mode": {
    "name": "ipython",
    "version": 3
   },
   "file_extension": ".py",
   "mimetype": "text/x-python",
   "name": "python",
   "nbconvert_exporter": "python",
   "pygments_lexer": "ipython3",
   "version": "3.7.3"
  }
 },
 "nbformat": 4,
 "nbformat_minor": 2
}
